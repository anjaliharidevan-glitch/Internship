{
  "nbformat": 4,
  "nbformat_minor": 0,
  "metadata": {
    "colab": {
      "provenance": [],
      "toc_visible": true,
      "mount_file_id": "1EPsjUijWg_maxWnhV2bNx3n0Q58bf8QH",
      "authorship_tag": "ABX9TyOeyezEvXAMEZWBNldktiEj",
      "include_colab_link": true
    },
    "kernelspec": {
      "name": "python3",
      "display_name": "Python 3"
    },
    "language_info": {
      "name": "python"
    }
  },
  "cells": [
    {
      "cell_type": "markdown",
      "metadata": {
        "id": "view-in-github",
        "colab_type": "text"
      },
      "source": [
        "<a href=\"https://colab.research.google.com/github/anjaliharidevan-glitch/anjali-/blob/main/caculator_task.ipynb\" target=\"_parent\"><img src=\"https://colab.research.google.com/assets/colab-badge.svg\" alt=\"Open In Colab\"/></a>"
      ]
    },
    {
      "cell_type": "code",
      "source": [
        "!cp /content/drive/MyDrive/calculator.py .config/"
      ],
      "metadata": {
        "id": "NsxXaUBYw4t7"
      },
      "execution_count": 36,
      "outputs": []
    },
    {
      "cell_type": "code",
      "source": [
        "import sys\n",
        "sys.path.append('.config/')\n",
        "import calculator as cl\n",
        "print(cl.add(2,3))\n",
        "print(cl.subtract(7,5))\n",
        "print(cl.multiply(8,9))"
      ],
      "metadata": {
        "colab": {
          "base_uri": "https://localhost:8080/"
        },
        "id": "Zp3Ot-bjxoJE",
        "outputId": "cb186e85-7e9b-4444-8d7e-6983d23afc8b"
      },
      "execution_count": 37,
      "outputs": [
        {
          "output_type": "stream",
          "name": "stdout",
          "text": [
            "5\n",
            "2\n",
            "72\n"
          ]
        }
      ]
    },
    {
      "cell_type": "code",
      "metadata": {
        "colab": {
          "base_uri": "https://localhost:8080/"
        },
        "id": "3d74faef",
        "outputId": "e133fd84-04ae-4702-cd78-5f908a56cfe8"
      },
      "source": [
        "import random\n",
        "print(dir(random))"
      ],
      "execution_count": 29,
      "outputs": [
        {
          "output_type": "stream",
          "name": "stdout",
          "text": [
            "['BPF', 'LOG4', 'NV_MAGICCONST', 'RECIP_BPF', 'Random', 'SG_MAGICCONST', 'SystemRandom', 'TWOPI', '_ONE', '_Sequence', '__all__', '__builtins__', '__cached__', '__doc__', '__file__', '__loader__', '__name__', '__package__', '__spec__', '_accumulate', '_acos', '_bisect', '_ceil', '_cos', '_e', '_exp', '_fabs', '_floor', '_index', '_inst', '_isfinite', '_lgamma', '_log', '_log2', '_os', '_pi', '_random', '_repeat', '_sha512', '_sin', '_sqrt', '_test', '_test_generator', '_urandom', '_warn', 'betavariate', 'binomialvariate', 'choice', 'choices', 'expovariate', 'gammavariate', 'gauss', 'getrandbits', 'getstate', 'lognormvariate', 'normalvariate', 'paretovariate', 'randbytes', 'randint', 'random', 'randrange', 'sample', 'seed', 'setstate', 'shuffle', 'triangular', 'uniform', 'vonmisesvariate', 'weibullvariate']\n"
          ]
        }
      ]
    },
    {
      "cell_type": "markdown",
      "metadata": {
        "id": "1b09dd7f"
      },
      "source": [
        "\n",
        "\n",
        "\n",
        "\n",
        "Create a package called 'utils' with two modules: - strings.py → count_words(text) - numbers.py → factorial(n)"
      ]
    },
    {
      "cell_type": "code",
      "metadata": {
        "colab": {
          "base_uri": "https://localhost:8080/"
        },
        "id": "b55c1550",
        "outputId": "2334e5a0-1ee6-4b4a-b457-5d4062a8b8b1"
      },
      "source": [
        "import os\n",
        "\n",
        "# Create the directory\n",
        "os.makedirs('utils', exist_ok=True)\n",
        "\n",
        "# Verify the directory was created\n",
        "if os.path.isdir('utils'):\n",
        "    print(\"Directory 'utils' created successfully.\")\n",
        "else:\n",
        "    print(\"Failed to create directory 'utils'.\")"
      ],
      "execution_count": 30,
      "outputs": [
        {
          "output_type": "stream",
          "name": "stdout",
          "text": [
            "Directory 'utils' created successfully.\n"
          ]
        }
      ]
    },
    {
      "cell_type": "code",
      "metadata": {
        "colab": {
          "base_uri": "https://localhost:8080/"
        },
        "id": "92da7ce5",
        "outputId": "78b07728-174b-4336-9457-14fb5d4ae755"
      },
      "source": [
        "import os\n",
        "\n",
        "init_file_path = os.path.join('utils', '__init__.py')\n",
        "\n",
        "with open(init_file_path, 'w') as f:\n",
        "    pass\n",
        "\n",
        "if os.path.exists(init_file_path):\n",
        "    print(f\"File '{init_file_path}' created successfully.\")\n",
        "else:\n",
        "    print(f\"Failed to create file '{init_file_path}'.\")"
      ],
      "execution_count": 31,
      "outputs": [
        {
          "output_type": "stream",
          "name": "stdout",
          "text": [
            "File 'utils/__init__.py' created successfully.\n"
          ]
        }
      ]
    },
    {
      "cell_type": "code",
      "metadata": {
        "colab": {
          "base_uri": "https://localhost:8080/"
        },
        "id": "c49a98a3",
        "outputId": "98610936-ae49-40f7-a18c-327ba2570482"
      },
      "source": [
        "import os\n",
        "\n",
        "strings_file_path = os.path.join('utils', 'strings.py')\n",
        "\n",
        "strings_content = \"\"\"\n",
        "def count_words(text):\n",
        "  \\\"\\\"\\\"Counts the number of words in a given text.\n",
        "\n",
        "  Args:\n",
        "    text: The input string.\n",
        "\n",
        "  Returns:\n",
        "    The number of words in the text.\n",
        "  \\\"\\\"\\\"\n",
        "  words = text.split()\n",
        "  return len(words)\n",
        "\"\"\"\n",
        "\n",
        "with open(strings_file_path, 'w') as f:\n",
        "  f.write(strings_content)\n",
        "\n",
        "if os.path.exists(strings_file_path):\n",
        "    print(f\"File '{strings_file_path}' created successfully.\")\n",
        "else:\n",
        "    print(f\"Failed to create file '{strings_file_path}'.\")"
      ],
      "execution_count": 32,
      "outputs": [
        {
          "output_type": "stream",
          "name": "stdout",
          "text": [
            "File 'utils/strings.py' created successfully.\n"
          ]
        }
      ]
    },
    {
      "cell_type": "code",
      "metadata": {
        "colab": {
          "base_uri": "https://localhost:8080/"
        },
        "id": "10062499",
        "outputId": "525e8e65-0eb8-47e2-ef03-3663cebae206"
      },
      "source": [
        "import os\n",
        "\n",
        "numbers_file_path = os.path.join('utils', 'numbers.py')\n",
        "\n",
        "numbers_content = \"\"\"\n",
        "def factorial(n):\n",
        "  \\\"\\\"\\\"Calculates the factorial of a non-negative integer.\n",
        "\n",
        "  Args:\n",
        "    n: A non-negative integer.\n",
        "\n",
        "  Returns:\n",
        "    The factorial of n.\n",
        "\n",
        "  Raises:\n",
        "    ValueError: If n is a negative integer.\n",
        "  \\\"\\\"\\\"\n",
        "  if not isinstance(n, int) or n < 0:\n",
        "    raise ValueError(\"Input must be a non-negative integer.\")\n",
        "  if n == 0:\n",
        "    return 1\n",
        "  else:\n",
        "    result = 1\n",
        "    for i in range(1, n + 1):\n",
        "      result *= i\n",
        "    return result\n",
        "\"\"\"\n",
        "\n",
        "with open(numbers_file_path, 'w') as f:\n",
        "  f.write(numbers_content)\n",
        "\n",
        "if os.path.exists(numbers_file_path):\n",
        "    print(f\"File '{numbers_file_path}' created successfully.\")\n",
        "else:\n",
        "    print(f\"Failed to create file '{numbers_file_path}'.\")"
      ],
      "execution_count": 33,
      "outputs": [
        {
          "output_type": "stream",
          "name": "stdout",
          "text": [
            "File 'utils/numbers.py' created successfully.\n"
          ]
        }
      ]
    },
    {
      "cell_type": "code",
      "metadata": {
        "colab": {
          "base_uri": "https://localhost:8080/"
        },
        "id": "af4da396",
        "outputId": "1fb48348-1d01-417b-b306-33e88b01f618"
      },
      "source": [
        "import os\n",
        "\n",
        "# List contents of the 'utils' directory\n",
        "directory_contents = os.listdir('utils')\n",
        "\n",
        "# Print the contents\n",
        "print(\"Contents of the 'utils' directory:\")\n",
        "for item in directory_contents:\n",
        "    print(item)"
      ],
      "execution_count": 34,
      "outputs": [
        {
          "output_type": "stream",
          "name": "stdout",
          "text": [
            "Contents of the 'utils' directory:\n",
            "__init__.py\n",
            "strings.py\n",
            "numbers.py\n"
          ]
        }
      ]
    },
    {
      "cell_type": "code",
      "metadata": {
        "colab": {
          "base_uri": "https://localhost:8080/"
        },
        "id": "d56ec361",
        "outputId": "c0158eef-4758-407c-fc88-807ca8991efe"
      },
      "source": [
        "from utils import strings\n",
        "from utils import numbers\n",
        "\n",
        "\n",
        "test_string = \"This is a test string with five words.\"\n",
        "word_count = strings.count_words(test_string)\n",
        "print(f\"The string '{test_string}' has {word_count} words.\")\n",
        "\n",
        "test_number = 5\n",
        "factorial_result = numbers.factorial(test_number)\n",
        "print(f\"The factorial of {test_number} is {factorial_result}.\")\n",
        "\n",
        "test_number_zero = 0\n",
        "factorial_result_zero = numbers.factorial(test_number_zero)\n",
        "print(f\"The factorial of {test_number_zero} is {factorial_result_zero}.\")\n",
        "\n",
        "try:\n",
        "    test_number_negative = -5\n",
        "    numbers.factorial(test_number_negative)\n",
        "except ValueError as e:\n",
        "    print(f\"Testing factorial with negative input: {e}\")"
      ],
      "execution_count": 35,
      "outputs": [
        {
          "output_type": "stream",
          "name": "stdout",
          "text": [
            "The string 'This is a test string with five words.' has 8 words.\n",
            "The factorial of 5 is 120.\n",
            "The factorial of 0 is 1.\n",
            "Testing factorial with negative input: Input must be a non-negative integer.\n"
          ]
        }
      ]
    }
  ]
}