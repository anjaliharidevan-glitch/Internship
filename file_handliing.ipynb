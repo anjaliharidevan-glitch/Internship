{
  "nbformat": 4,
  "nbformat_minor": 0,
  "metadata": {
    "colab": {
      "provenance": [],
      "authorship_tag": "ABX9TyOtN/MZBNIART2brABvpmPl",
      "include_colab_link": true
    },
    "kernelspec": {
      "name": "python3",
      "display_name": "Python 3"
    },
    "language_info": {
      "name": "python"
    }
  },
  "cells": [
    {
      "cell_type": "markdown",
      "metadata": {
        "id": "view-in-github",
        "colab_type": "text"
      },
      "source": [
        "<a href=\"https://colab.research.google.com/github/anjaliharidevan-glitch/anjali-/blob/main/file_handliing.ipynb\" target=\"_parent\"><img src=\"https://colab.research.google.com/assets/colab-badge.svg\" alt=\"Open In Colab\"/></a>"
      ]
    },
    {
      "cell_type": "code",
      "source": [],
      "metadata": {
        "id": "X57TbHZ9Mybv"
      },
      "execution_count": null,
      "outputs": []
    },
    {
      "cell_type": "code",
      "metadata": {
        "id": "8b58cd9b"
      },
      "source": [
        "f= open('notes.txt',\"w\")\n",
        "f.write(\"This is the first line.\\n\")\n",
        "f.write(\"Learning Python is fun.\\n\")\n",
        "f.write(\"Another line about data science with Python.\\n\")\n",
        "f.close()"
      ],
      "execution_count": 35,
      "outputs": []
    },
    {
      "cell_type": "code",
      "metadata": {
        "colab": {
          "base_uri": "https://localhost:8080/"
        },
        "id": "45063fdd",
        "outputId": "2e93abb6-8032-411e-eccb-41923ea114b5"
      },
      "source": [
        "f=open('notes.txt', 'r')\n",
        "for line in f:\n",
        "  if 'Python' in line:\n",
        "    print(line.strip())\n",
        "f.close()"
      ],
      "execution_count": 36,
      "outputs": [
        {
          "output_type": "stream",
          "name": "stdout",
          "text": [
            "Learning Python is fun.\n",
            "Another line about data science with Python.\n"
          ]
        }
      ]
    },
    {
      "cell_type": "code",
      "metadata": {
        "id": "OWHMk3RkRswf"
      },
      "source": [
        "f= open('notes.txt', 'a')\n",
        "f.write(\"This is a new appended line.\\n\")\n",
        "f.close()"
      ],
      "execution_count": 37,
      "outputs": []
    },
    {
      "cell_type": "code",
      "metadata": {
        "colab": {
          "base_uri": "https://localhost:8080/"
        },
        "id": "b7a4a243",
        "outputId": "d11c3e07-d258-425e-edf4-598ab915f941"
      },
      "source": [
        "with open('notes.txt', 'r') as f:\n",
        "    print(f.read())"
      ],
      "execution_count": 38,
      "outputs": [
        {
          "output_type": "stream",
          "name": "stdout",
          "text": [
            "This is the first line.\n",
            "Learning Python is fun.\n",
            "Another line about data science with Python.\n",
            "This is a new appended line.\n",
            "\n"
          ]
        }
      ]
    }
  ]
}