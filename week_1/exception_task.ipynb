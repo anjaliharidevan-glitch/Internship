{
  "nbformat": 4,
  "nbformat_minor": 0,
  "metadata": {
    "colab": {
      "provenance": [],
      "authorship_tag": "ABX9TyMASoz008jI4BPo2MW7Er7s",
      "include_colab_link": true
    },
    "kernelspec": {
      "name": "python3",
      "display_name": "Python 3"
    },
    "language_info": {
      "name": "python"
    }
  },
  "cells": [
    {
      "cell_type": "markdown",
      "metadata": {
        "id": "view-in-github",
        "colab_type": "text"
      },
      "source": [
        "<a href=\"https://colab.research.google.com/github/anjaliharidevan-glitch/anjali-/blob/main/exception_task.ipynb\" target=\"_parent\"><img src=\"https://colab.research.google.com/assets/colab-badge.svg\" alt=\"Open In Colab\"/></a>"
      ]
    },
    {
      "cell_type": "code",
      "source": [
        "a=float(input(\"enter the first number\"))\n",
        "b=float(input(\"enter the second number\"))\n",
        "\n",
        "try:\n",
        "     result = a / b\n",
        "     print(\"The result is:\", result)\n",
        "except ZeroDivisionError:\n",
        "     print(\"Error: Cannot divide by zero.\")\n"
      ],
      "metadata": {
        "colab": {
          "base_uri": "https://localhost:8080/"
        },
        "id": "ri7tVcSXbdkv",
        "outputId": "1b2606a0-a437-4d54-9677-3bdb048bf802"
      },
      "execution_count": null,
      "outputs": [
        {
          "output_type": "stream",
          "name": "stdout",
          "text": [
            "enter the first number6\n",
            "enter the second number0\n",
            "Error: Cannot divide by zero.\n"
          ]
        }
      ]
    },
    {
      "cell_type": "code",
      "source": [
        "\n",
        "    try:\n",
        "\n",
        "        a = float(input(\"Enter the first number: \"))\n",
        "        b = float(input(\"Enter the second number: \"))\n",
        "\n",
        "\n",
        "        result = a / b\n",
        "        print(\"The result is:\", result)\n",
        "\n",
        "\n",
        "    except ValueError:\n",
        "        print(\"Error: Invalid input. Please enter numeric values.\")\n",
        "    except ZeroDivisionError:\n",
        "        print(\"Error: Cannot divide by zero.\")\n"
      ],
      "metadata": {
        "colab": {
          "base_uri": "https://localhost:8080/"
        },
        "id": "pqCh6UiObfQl",
        "outputId": "ed9dfef7-5cc1-4304-acc2-f167b72dc47e"
      },
      "execution_count": null,
      "outputs": [
        {
          "output_type": "stream",
          "name": "stdout",
          "text": [
            "Enter the first number: 9\n",
            "Enter the second number: p\n",
            "Error: Invalid input. Please enter numeric values.\n"
          ]
        }
      ]
    },
    {
      "cell_type": "code",
      "source": [],
      "metadata": {
        "id": "wgXdj0NkfwbG"
      },
      "execution_count": null,
      "outputs": []
    },
    {
      "cell_type": "code",
      "execution_count": null,
      "metadata": {
        "id": "17707681",
        "colab": {
          "base_uri": "https://localhost:8080/"
        },
        "outputId": "3dabd5a6-e11f-4c1c-fb33-0d65d50332df"
      },
      "outputs": [
        {
          "output_type": "stream",
          "name": "stdout",
          "text": [
            "enter the first number9\n",
            "enter the second number0\n",
            "Error: Cannot divide by zero.\n",
            "file closed\n"
          ]
        }
      ],
      "source": [
        "try:\n",
        "    f = open(\"result.txt\", \"w\")\n",
        "\n",
        "    a=float(input(\"enter the first number\"))\n",
        "    b=float(input(\"enter the second number\"))\n",
        "\n",
        "    result = a / b\n",
        "\n",
        "except ValueError:\n",
        "    print(\"Error: Invalid input. Please enter numeric values.\")\n",
        "except ZeroDivisionError:\n",
        "    print(\"Error: Cannot divide by zero.\")\n",
        "else:\n",
        "    print(\"Result:\", result)\n",
        "    f.write(f\"division result:{result}\\n\")\n",
        "finally:\n",
        "    f.close()\n",
        "    print(\"file closed\")\n"
      ]
    }
  ]
}
